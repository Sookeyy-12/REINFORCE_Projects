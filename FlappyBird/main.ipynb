{
 "cells": [
  {
   "cell_type": "markdown",
   "metadata": {},
   "source": [
    "# Flappy Bird AI using Reinforce (Monte Carlo Policy Gradient)"
   ]
  },
  {
   "cell_type": "markdown",
   "metadata": {},
   "source": [
    "### Importing Flappy Bird gym and other important libraries"
   ]
  },
  {
   "cell_type": "code",
   "execution_count": 41,
   "metadata": {},
   "outputs": [],
   "source": [
    "import gymnasium as gym\n",
    "import flappy_bird_gymnasium\n",
    "\n",
    "import torch\n",
    "import torch.nn as nn\n",
    "import torch.nn.functional as F\n",
    "import torch.optim as optim\n",
    "from torch.distributions import Categorical\n",
    "\n",
    "from collections import deque\n",
    "import numpy as np\n",
    "\n",
    "import imageio\n",
    "\n",
    "import matplotlib.pyplot as plt\n",
    "import time"
   ]
  },
  {
   "cell_type": "markdown",
   "metadata": {},
   "source": [
    "Check if we have gpu"
   ]
  },
  {
   "cell_type": "code",
   "execution_count": 42,
   "metadata": {},
   "outputs": [
    {
     "name": "stdout",
     "output_type": "stream",
     "text": [
      "cpu\n"
     ]
    }
   ],
   "source": [
    "device = torch.device(\"cuda:0\" if torch.cuda.is_available() else \"cpu\")\n",
    "print(device)"
   ]
  },
  {
   "cell_type": "markdown",
   "metadata": {},
   "source": [
    "### Making env"
   ]
  },
  {
   "cell_type": "code",
   "execution_count": 43,
   "metadata": {},
   "outputs": [],
   "source": [
    "env_id = \"FlappyBird-v0\"    # flappy bird env id\n",
    "\n",
    "env = gym.make(env_id, render_mode='rgb_array')      # creating the env\n",
    "eval_env = gym.make(env_id, render_mode='rgb_array')     # creating the eval env\n",
    "env.reset()\n",
    "eval_env.reset()\n",
    "\n",
    "s_size = env.observation_space.shape[0]     # observation space\n",
    "a_size = env.action_space.n                 # action space"
   ]
  },
  {
   "cell_type": "markdown",
   "metadata": {},
   "source": [
    "### Observation Space"
   ]
  },
  {
   "cell_type": "code",
   "execution_count": 44,
   "metadata": {},
   "outputs": [
    {
     "name": "stdout",
     "output_type": "stream",
     "text": [
      "_____OBSERVATION SPACE_____ \n",
      "\n",
      "Observation Space: 12\n",
      "Sample Observation Space: [ 1.41926383 -0.1797221   0.97622952 -0.49104619  0.79411279 -0.56629273\n",
      " -0.58426733 -0.53222114  0.13496279  1.50129678  1.62652175 -1.60260609]\n"
     ]
    }
   ],
   "source": [
    "print(\"_____OBSERVATION SPACE_____ \\n\")\n",
    "print(f\"Observation Space: {s_size}\")\n",
    "print(f\"Sample Observation Space: {env.observation_space.sample()}\")"
   ]
  },
  {
   "cell_type": "markdown",
   "metadata": {},
   "source": [
    "#### The Observation Space (12):\n",
    "- the last pipe's horizontal position\n",
    "- the last top pipe's vertical position\n",
    "- the last bottom pipe's vertical position\n",
    "- the next pipe's horizontal position\n",
    "- the next top pipe's vertical position\n",
    "- the next bottom pipe's vertical position\n",
    "- the next next pipe's horizontal position\n",
    "- the next next top pipe's vertical position\n",
    "- the next next bottom pipe's vertical position\n",
    "- player's vertical position\n",
    "- player's vertical velocity\n",
    "- player's rotation"
   ]
  },
  {
   "cell_type": "code",
   "execution_count": 45,
   "metadata": {},
   "outputs": [
    {
     "name": "stdout",
     "output_type": "stream",
     "text": [
      "_____ACTION SPACE_____ \n",
      "\n",
      "Action Space: 2\n",
      "Sample Action Space: 0\n"
     ]
    }
   ],
   "source": [
    "print(\"_____ACTION SPACE_____ \\n\")\n",
    "print(f\"Action Space: {a_size}\")\n",
    "print(f\"Sample Action Space: {env.action_space.sample()}\")"
   ]
  },
  {
   "cell_type": "markdown",
   "metadata": {},
   "source": [
    "#### The action space(2):\n",
    "- `1`: Up (press accelerator)\n",
    "- `0`: Do nothing (don't press accelerator)"
   ]
  },
  {
   "cell_type": "markdown",
   "metadata": {},
   "source": [
    "### Reward Function:\n",
    "- `+0.1` - every frame it stays alive\n",
    "- `+1.0` - succesfully passing a pipe\n",
    "- `-1.0` - dying"
   ]
  },
  {
   "cell_type": "markdown",
   "metadata": {},
   "source": [
    "## Defining the Policy"
   ]
  },
  {
   "cell_type": "code",
   "execution_count": 46,
   "metadata": {},
   "outputs": [],
   "source": [
    "class Policy(nn.Module):\n",
    "    def __init__(self, s_size, a_size, h_size):\n",
    "        super(Policy, self).__init__()\n",
    "        ## Creating Layers\n",
    "        # Hidden Layers\n",
    "        self.fc1 = nn.Linear(s_size, h_size)\n",
    "        self.fc2 = nn.Linear(h_size, h_size*2)\n",
    "        # Output Layer\n",
    "        self.fc3 = nn.Linear(h_size*2, a_size)\n",
    "\n",
    "    # Define the Forward Pass\n",
    "    def forward(self, x):\n",
    "        # apply relu activation function to the hidden layers\n",
    "        x = F.relu(self.fc1(x))\n",
    "        x = F.relu(self.fc2(x))\n",
    "        # output with softmax\n",
    "        x = F.softmax(self.fc3(x), dim=1)\n",
    "        return x\n",
    "    \n",
    "    # Define the act i.e. given a state, take action\n",
    "    def act(self, state):\n",
    "        state = torch.from_numpy(state).float().unsqueeze(0).to(device)\n",
    "        probs = self.forward(state).cpu()\n",
    "        m = Categorical(probs)\n",
    "        action = m.sample()\n",
    "        return action.item(), m.log_prob(action)"
   ]
  },
  {
   "cell_type": "code",
   "execution_count": 47,
   "metadata": {},
   "outputs": [
    {
     "data": {
      "text/plain": [
       "(1, tensor([-0.6170], grad_fn=<SqueezeBackward1>))"
      ]
     },
     "execution_count": 47,
     "metadata": {},
     "output_type": "execute_result"
    }
   ],
   "source": [
    "debug_policy = Policy(s_size, a_size, 64).to(device)\n",
    "state = env.reset()\n",
    "debug_policy.act(state[0])"
   ]
  },
  {
   "cell_type": "markdown",
   "metadata": {},
   "source": [
    "## Building the Reinforce Algorithm\n",
    "Building the Monte Carlo Policy Gradient (MCPG) or Reinforce Algorithm"
   ]
  },
  {
   "cell_type": "code",
   "execution_count": 48,
   "metadata": {},
   "outputs": [],
   "source": [
    "##########\n",
    "losses = []\n",
    "##########\n",
    "def reinforce(policy, optimizer, n_training_episodes, max_t, gamma, print_every):\n",
    "    # Help us to calculate the score during the training\n",
    "    scores_deque = deque(maxlen=100)\n",
    "    scores = []\n",
    "\n",
    "    for i_episode in range(1, n_training_episodes+1):\n",
    "        saved_log_probs = []\n",
    "        rewards = []\n",
    "        state = env.reset()\n",
    "        state = state[0]\n",
    "        for t in range(max_t):\n",
    "            action, log_prob = policy.act(state)\n",
    "            saved_log_probs.append(log_prob)\n",
    "            state, reward, terminated, truncated, info = env.step(action)\n",
    "            rewards.append(reward)\n",
    "            if terminated or truncated:\n",
    "                break \n",
    "        scores_deque.append(sum(rewards))\n",
    "        scores.append(sum(rewards))\n",
    "\n",
    "        returns = deque(maxlen=max_t) \n",
    "        n_steps = len(rewards) \n",
    "\n",
    "        for t in range(n_steps)[::-1]:\n",
    "            disc_return_t = (returns[0] if len(returns)>0 else 0)\n",
    "            returns.appendleft( gamma*disc_return_t + rewards[t]   )\n",
    "\n",
    "        # standardizing returns to make traininig more stable\n",
    "        eps = np.finfo(np.float32).eps.item()       # smallest representable float\n",
    "        returns = torch.tensor(returns)\n",
    "        returns = (returns - returns.mean()) / (returns.std()+eps)    # added to std deviation to avoid numerical instabilities\n",
    "\n",
    "        policy_loss = []\n",
    "        for log_prob, disc_return in zip(saved_log_probs, returns):\n",
    "            policy_loss.append(-log_prob * disc_return)\n",
    "        policy_loss = torch.cat(policy_loss).sum()\n",
    "\n",
    "        optimizer.zero_grad()\n",
    "        policy_loss.backward()\n",
    "        optimizer.step()\n",
    "        ########\n",
    "        losses.append(policy_loss.item())\n",
    "        ########\n",
    "        if i_episode % print_every == 0:\n",
    "            print(f\"Episode: {i_episode}\\tAverage Score: {np.mean(scores_deque)}\\tPolicy Loss: {policy_loss.item()}\")\n",
    "        \n",
    "    return scores"
   ]
  },
  {
   "cell_type": "markdown",
   "metadata": {},
   "source": [
    "## Definig Hyperparameters"
   ]
  },
  {
   "cell_type": "code",
   "execution_count": 49,
   "metadata": {},
   "outputs": [],
   "source": [
    "flappybird_hyperparameters = {\n",
    "    \"h_size\": 32,\n",
    "    \"n_training_episodes\": 10000,\n",
    "    \"n_evaluation_episodes\": 10,\n",
    "    \"max_t\": 1000,\n",
    "    \"gamma\": .99,\n",
    "    \"lr\": 1e4,\n",
    "    \"env_id\": env_id,\n",
    "    \"state_space\": s_size,\n",
    "    \"action_space\": a_size,\n",
    "}"
   ]
  },
  {
   "cell_type": "code",
   "execution_count": 50,
   "metadata": {},
   "outputs": [
    {
     "data": {
      "text/plain": [
       "Policy(\n",
       "  (fc1): Linear(in_features=12, out_features=32, bias=True)\n",
       "  (fc2): Linear(in_features=32, out_features=64, bias=True)\n",
       "  (fc3): Linear(in_features=64, out_features=2, bias=True)\n",
       ")"
      ]
     },
     "execution_count": 50,
     "metadata": {},
     "output_type": "execute_result"
    }
   ],
   "source": [
    "Policy(s_size, a_size, flappybird_hyperparameters['h_size'])"
   ]
  },
  {
   "cell_type": "markdown",
   "metadata": {},
   "source": [
    "## Training the Agent"
   ]
  },
  {
   "cell_type": "code",
   "execution_count": 51,
   "metadata": {},
   "outputs": [],
   "source": [
    "flappybird_policy = Policy(flappybird_hyperparameters[\"state_space\"], flappybird_hyperparameters[\"action_space\"], flappybird_hyperparameters[\"h_size\"]).to(device)\n",
    "flappybird_optimizer = optim.Adam(flappybird_policy.parameters(), lr=flappybird_hyperparameters[\"lr\"])"
   ]
  },
  {
   "cell_type": "code",
   "execution_count": 52,
   "metadata": {},
   "outputs": [
    {
     "name": "stdout",
     "output_type": "stream",
     "text": [
      "Episode: 1000\tAverage Score: 8.999999999999982\tPolicy Loss: 3.410605131648481e-13\n",
      "Episode: 2000\tAverage Score: 8.999999999999982\tPolicy Loss: 3.410605131648481e-13\n",
      "Episode: 3000\tAverage Score: 8.999999999999982\tPolicy Loss: 3.410605131648481e-13\n",
      "Episode: 4000\tAverage Score: 8.999999999999982\tPolicy Loss: 3.410605131648481e-13\n",
      "Episode: 5000\tAverage Score: 8.999999999999982\tPolicy Loss: 3.410605131648481e-13\n",
      "Episode: 6000\tAverage Score: 8.999999999999982\tPolicy Loss: 3.410605131648481e-13\n",
      "Episode: 7000\tAverage Score: 8.999999999999982\tPolicy Loss: 3.410605131648481e-13\n",
      "Episode: 8000\tAverage Score: 8.999999999999982\tPolicy Loss: 3.410605131648481e-13\n",
      "Episode: 9000\tAverage Score: 8.999999999999982\tPolicy Loss: 3.410605131648481e-13\n",
      "Episode: 10000\tAverage Score: 8.999999999999982\tPolicy Loss: 3.410605131648481e-13\n"
     ]
    }
   ],
   "source": [
    "scores = reinforce(\n",
    "    flappybird_policy,\n",
    "    flappybird_optimizer,\n",
    "    flappybird_hyperparameters[\"n_training_episodes\"],\n",
    "    flappybird_hyperparameters[\"max_t\"],\n",
    "    flappybird_hyperparameters[\"gamma\"],\n",
    "    1000,\n",
    ")"
   ]
  },
  {
   "cell_type": "code",
   "execution_count": 53,
   "metadata": {},
   "outputs": [
    {
     "data": {
      "image/png": "[encoded data removed]",
      "text/plain": [
       "<Figure size 640x480 with 1 Axes>"
      ]
     },
     "metadata": {},
     "output_type": "display_data"
    }
   ],
   "source": [
    "# Plotting the policy loss with episodes\n",
    "plt.plot(range(1, flappybird_hyperparameters[\"n_training_episodes\"]+1), losses)\n",
    "plt.xlabel('Episodes')\n",
    "plt.ylabel('Policy Loss')\n",
    "plt.title('Policy Loss vs. Episodes')\n",
    "plt.show()"
   ]
  },
  {
   "cell_type": "markdown",
   "metadata": {},
   "source": [
    "## Define Evaluation Agent"
   ]
  },
  {
   "cell_type": "code",
   "execution_count": 54,
   "metadata": {},
   "outputs": [],
   "source": [
    "def evaluate_agent(env, max_steps, n_eval_episodes, policy):\n",
    "  \"\"\"\n",
    "  Evaluate the agent for ``n_eval_episodes`` episodes and returns average reward and std of reward.\n",
    "  :param env: The evaluation environment\n",
    "  :param n_eval_episodes: Number of episode to evaluate the agent\n",
    "  :param policy: The Reinforce agent\n",
    "  \"\"\"\n",
    "  episode_rewards = []\n",
    "  for episode in range(n_eval_episodes):\n",
    "    state = env.reset()\n",
    "    state = state[0]\n",
    "    step = 0\n",
    "    terminated = False\n",
    "    truncated = False\n",
    "    total_rewards_ep = 0\n",
    "\n",
    "    for step in range(max_steps):\n",
    "      action, _ = policy.act(state)\n",
    "      new_state, reward, terminated, truncated, info = env.step(action)\n",
    "      total_rewards_ep += reward\n",
    "\n",
    "      if terminated or truncated:\n",
    "        break\n",
    "      state = new_state\n",
    "    episode_rewards.append(total_rewards_ep)\n",
    "  mean_reward = np.mean(episode_rewards)\n",
    "  std_reward = np.std(episode_rewards)\n",
    "\n",
    "  return mean_reward, std_reward"
   ]
  },
  {
   "cell_type": "markdown",
   "metadata": {},
   "source": [
    "#### Evaluate our Agent"
   ]
  },
  {
   "cell_type": "code",
   "execution_count": 55,
   "metadata": {},
   "outputs": [
    {
     "data": {
      "text/plain": [
       "(8.999999999999982, 1.7763568394002505e-15)"
      ]
     },
     "execution_count": 55,
     "metadata": {},
     "output_type": "execute_result"
    }
   ],
   "source": [
    "evaluate_agent(eval_env,\n",
    "               flappybird_hyperparameters[\"max_t\"],\n",
    "               flappybird_hyperparameters[\"n_evaluation_episodes\"],\n",
    "               flappybird_policy)"
   ]
  },
  {
   "cell_type": "markdown",
   "metadata": {},
   "source": [
    "### Recording Video"
   ]
  },
  {
   "cell_type": "code",
   "execution_count": 56,
   "metadata": {},
   "outputs": [],
   "source": [
    "def record_video(env, policy, out_directory, fps=30):\n",
    "  images = []\n",
    "  terminated = False\n",
    "  truncated = False\n",
    "  state = env.reset()\n",
    "  state = state[0]\n",
    "  img = env.render()\n",
    "  images.append(img)\n",
    "  while not terminated or truncated:\n",
    "    action, _ = policy.act(state)\n",
    "    state, reward, terminated, truncated, info = env.step(action)\n",
    "    img = env.render()\n",
    "    images.append(img)\n",
    "  imageio.mimsave(out_directory, [np.array(img) for i, img in enumerate(images)], fps=fps)"
   ]
  },
  {
   "cell_type": "code",
   "execution_count": 57,
   "metadata": {},
   "outputs": [],
   "source": [
    "video_path = './Videos/replay.mp4'\n",
    "record_video(eval_env, flappybird_policy, video_path, 30)"
   ]
  }
 ],
 "metadata": {
  "kernelspec": {
   "display_name": "Python 3",
   "language": "python",
   "name": "python3"
  },
  "language_info": {
   "codemirror_mode": {
    "name": "ipython",
    "version": 3
   },
   "file_extension": ".py",
   "mimetype": "text/x-python",
   "name": "python",
   "nbconvert_exporter": "python",
   "pygments_lexer": "ipython3",
   "version": "3.11.1"
  },
  "orig_nbformat": 4
 },
 "nbformat": 4,
 "nbformat_minor": 2
}
